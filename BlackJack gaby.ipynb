{
 "cells": [
  {
   "cell_type": "code",
   "execution_count": 31,
   "metadata": {},
   "outputs": [],
   "source": [
    "import random\n",
    "\n",
    "suits = ('Corazones', 'Diamantes', 'Picas', 'Trébol')\n",
    "ranks = ('Dos', 'Tres', 'Cuatro', 'Cinco', 'Seis', 'Siete', 'Ocho', 'Nueve', 'Diez', 'J', 'Q', 'K', 'As')\n",
    "values ={'Dos':2, 'Tres':3, 'Cuatro':4, 'Cinco':5, 'Seis':6, 'Siete':7, 'Ocho':8, 'Nueve':9, 'Diez':10, 'J':10,\n",
    "         'Q':10, 'K':10, 'As':11}\n",
    "playing = True"
   ]
  },
  {
   "cell_type": "code",
   "execution_count": 32,
   "metadata": {},
   "outputs": [],
   "source": [
    "class Carta:\n",
    "\n",
    "    def __init__(self,suit,rank):\n",
    "        self.suit = suit\n",
    "        self.rank = rank\n",
    "        \n",
    "    def __str__(self):\n",
    "        return self.rank + ' de ' + self.suit"
   ]
  },
  {
   "cell_type": "code",
   "execution_count": 33,
   "metadata": {},
   "outputs": [],
   "source": [
    "class Deck:\n",
    "    \n",
    "    def __init__(self):\n",
    "        self.deck = []  \n",
    "        for suit in suits:\n",
    "            for rank in ranks:\n",
    "                self.deck.append(Carta(suit,rank))  \n",
    "    \n",
    "    def __str__(self):\n",
    "        deck_comp = ''  \n",
    "        for carta in self.deck:\n",
    "            deck_comp += '\\n '+carta.__str__() \n",
    "        return 'El mazo tiene:' + deck_comp\n",
    "\n",
    "    def shuffle(self):\n",
    "        random.shuffle(self.deck)\n",
    "        \n",
    "    def deal(self):\n",
    "        single_carta = self.deck.pop()\n",
    "        return single_carta"
   ]
  },
  {
   "cell_type": "code",
   "execution_count": 34,
   "metadata": {},
   "outputs": [
    {
     "name": "stdout",
     "output_type": "stream",
     "text": [
      "El mazo tiene:\n",
      " Diez de Diamantes\n",
      " Cinco de Corazones\n",
      " K de Picas\n",
      " Dos de Picas\n",
      " As de Trébol\n",
      " Diez de Corazones\n",
      " Q de Trébol\n",
      " Ocho de Corazones\n",
      " Tres de Picas\n",
      " J de Corazones\n",
      " Cinco de Trébol\n",
      " Ocho de Trébol\n",
      " Cuatro de Corazones\n",
      " Cinco de Picas\n",
      " Siete de Diamantes\n",
      " Seis de Corazones\n",
      " Nueve de Picas\n",
      " Diez de Trébol\n",
      " K de Diamantes\n",
      " Seis de Diamantes\n",
      " Q de Picas\n",
      " J de Trébol\n",
      " Nueve de Diamantes\n",
      " K de Trébol\n",
      " Cuatro de Picas\n",
      " J de Picas\n",
      " Siete de Picas\n",
      " As de Diamantes\n",
      " Cuatro de Trébol\n",
      " Dos de Corazones\n",
      " As de Picas\n",
      " Tres de Trébol\n",
      " Siete de Corazones\n",
      " Nueve de Corazones\n",
      " Ocho de Picas\n",
      " Cinco de Diamantes\n",
      " Siete de Trébol\n",
      " Dos de Diamantes\n",
      " As de Corazones\n",
      " Tres de Corazones\n",
      " Ocho de Diamantes\n",
      " Cuatro de Diamantes\n",
      " Nueve de Trébol\n",
      " Q de Corazones\n",
      " Seis de Trébol\n",
      " Diez de Picas\n",
      " Tres de Diamantes\n",
      " J de Diamantes\n",
      " K de Corazones\n",
      " Q de Diamantes\n",
      " Seis de Picas\n",
      " Dos de Trébol\n"
     ]
    }
   ],
   "source": [
    "test_deck = Deck()\n",
    "test_deck.shuffle()\n",
    "print(test_deck)"
   ]
  },
  {
   "cell_type": "code",
   "execution_count": 35,
   "metadata": {},
   "outputs": [],
   "source": [
    "class Hand:\n",
    "    def __init__(self):\n",
    "        self.cards = []\n",
    "        self.value = 0  \n",
    "        self.aces = 0    \n",
    "    \n",
    "    def add_card(self,card):\n",
    "        self.cards.append(card)\n",
    "        self.value += values[card.rank]\n",
    "        \n",
    "        if card.rank == 'As':\n",
    "            self.aces += 1\n",
    "    \n",
    "    def adjust_for_ace(self):\n",
    "        while self.value > 21 and self.aces > 0:\n",
    "            self.value -= 10\n",
    "            self.aces -= 1"
   ]
  },
  {
   "cell_type": "code",
   "execution_count": 36,
   "metadata": {},
   "outputs": [
    {
     "name": "stdout",
     "output_type": "stream",
     "text": [
      "Dos de Trébol\n",
      "2\n"
     ]
    }
   ],
   "source": [
    "test_deck = Deck()\n",
    "test_deck.shuffle()\n",
    "\n",
    "test_player = Hand()\n",
    "pulled_card = test_deck.deal()\n",
    "print(pulled_card)\n",
    "test_player.add_card(pulled_card)\n",
    "print(test_player.value)"
   ]
  },
  {
   "cell_type": "code",
   "execution_count": 37,
   "metadata": {},
   "outputs": [],
   "source": [
    "test_player.add_card(test_deck.deal())"
   ]
  },
  {
   "cell_type": "code",
   "execution_count": 38,
   "metadata": {},
   "outputs": [
    {
     "data": {
      "text/plain": [
       "11"
      ]
     },
     "execution_count": 38,
     "metadata": {},
     "output_type": "execute_result"
    }
   ],
   "source": [
    "test_player.value"
   ]
  },
  {
   "cell_type": "code",
   "execution_count": 39,
   "metadata": {},
   "outputs": [],
   "source": [
    "class Chips:\n",
    "    \n",
    "    def __init__(self,total=100):\n",
    "        self.total = total\n",
    "        self.bet = 0\n",
    "        \n",
    "    def win_bet(self):\n",
    "        self.total += self.bet\n",
    "    \n",
    "    def lose_bet(self):\n",
    "        self.total -= self.bet"
   ]
  },
  {
   "cell_type": "code",
   "execution_count": 40,
   "metadata": {},
   "outputs": [],
   "source": [
    "def take_bet(chips):\n",
    "    \n",
    "    while True:\n",
    "        try:\n",
    "            chips.bet = int(input('¿Cuánto quieres apostar? '))\n",
    "        except ValueError:\n",
    "            print('Introduzca un número entero')\n",
    "        else:\n",
    "            if chips.bet > chips.total:\n",
    "                print('¡No tienes suficientes fichas!',chips.total)\n",
    "            else:\n",
    "                break"
   ]
  },
  {
   "cell_type": "code",
   "execution_count": 41,
   "metadata": {},
   "outputs": [],
   "source": [
    "def hit(deck,hand):\n",
    "    \n",
    "    single_card = deck.deal()\n",
    "    hand.add_card(single_card)\n",
    "    hand.adjust_for_ace()"
   ]
  },
  {
   "cell_type": "code",
   "execution_count": 42,
   "metadata": {},
   "outputs": [],
   "source": [
    "def hit_or_stand(deck,hand):\n",
    "    global playing \n",
    "    \n",
    "    while True:\n",
    "        x = input('¿Quieres golpear o quieres qudarte? Presiona g o q')\n",
    "        \n",
    "        if x[0].lower() == 'g':\n",
    "            hit(deck,hand)  \n",
    "\n",
    "        elif x[0].lower() == 'q':\n",
    "            print('Turno del repartidor')\n",
    "            playing = False\n",
    "\n",
    "        else:\n",
    "            print('Inténtalo de nuevo')\n",
    "            continue\n",
    "        break"
   ]
  },
  {
   "cell_type": "code",
   "execution_count": 43,
   "metadata": {},
   "outputs": [],
   "source": [
    "def show_some(player,dealer):\n",
    "    print(\"\\nMano del repartidor:\")\n",
    "    print(\" <card hidden>\")\n",
    "    print('',dealer.cards[1])  \n",
    "    print(\"\\nMano del jugador:\", *player.cards, sep='\\n ')\n",
    "    \n",
    "def show_all(player,dealer):\n",
    "    print(\"\\nMano del repartidor:\", *dealer.cards, sep='\\n ')\n",
    "    print(\"Mano del repartidor =\",dealer.value)\n",
    "    print(\"\\nMano del jugador:\", *player.cards, sep='\\n ')\n",
    "    print(\"Mano del jugador =\",player.value)"
   ]
  },
  {
   "cell_type": "code",
   "execution_count": 44,
   "metadata": {},
   "outputs": [],
   "source": [
    "def player_busts(player,dealer,chips):\n",
    "    print('El jugador cae en quiebra')\n",
    "    chips.lose_bet()\n",
    "def player_wins(player,dealer,chips):\n",
    "    print('¡Ganó el jugador!')\n",
    "    chips.win_bet()\n",
    "\n",
    "def dealer_busts(player,dealer,chips):\n",
    "    print('El repartidor cae en quiebra')\n",
    "    chips.win_bet()\n",
    "    \n",
    "def dealer_wins(player,dealer,chips):\n",
    "    print('¡Ganó el repartidor!')\n",
    "    chips.lose_bet()\n",
    "    \n",
    "def push(player,dealer,):\n",
    "    print('¡Empate!')"
   ]
  },
  {
   "cell_type": "code",
   "execution_count": 45,
   "metadata": {},
   "outputs": [
    {
     "name": "stdout",
     "output_type": "stream",
     "text": [
      "Bienvenido a BlackJack\n",
      "¿Cuánto quieres apostar? 50\n",
      "\n",
      "Mano del repartidor:\n",
      " <card hidden>\n",
      " Siete de Picas\n",
      "\n",
      "Mano del jugador:\n",
      " Dos de Diamantes\n",
      " Cuatro de Trébol\n",
      "¿Quieres golpear o quieres qudarte? Presiona g o qg\n",
      "\n",
      "Mano del repartidor:\n",
      " <card hidden>\n",
      " Siete de Picas\n",
      "\n",
      "Mano del jugador:\n",
      " Dos de Diamantes\n",
      " Cuatro de Trébol\n",
      " K de Diamantes\n",
      "¿Quieres golpear o quieres qudarte? Presiona g o qg\n",
      "\n",
      "Mano del repartidor:\n",
      " <card hidden>\n",
      " Siete de Picas\n",
      "\n",
      "Mano del jugador:\n",
      " Dos de Diamantes\n",
      " Cuatro de Trébol\n",
      " K de Diamantes\n",
      " Siete de Trébol\n",
      "El jugador cae en quiebra\n",
      "\n",
      " Total de fichas del jugador: 50\n",
      "¿Quieres volver a jugar? Presiona s o ns\n",
      "Gracias por jugar BlackJack\n"
     ]
    }
   ],
   "source": [
    "while True:\n",
    "    \n",
    "\n",
    "    print('Bienvenido a BlackJack')\n",
    "    \n",
    "    deck = Deck()\n",
    "    deck.shuffle()\n",
    "    \n",
    "    player_hand = Hand()\n",
    "    player_hand.add_card(deck.deal())\n",
    "    player_hand.add_card(deck.deal())\n",
    "        \n",
    "    dealer_hand = Hand()\n",
    "    dealer_hand.add_card(deck.deal())\n",
    "    dealer_hand.add_card(deck.deal())\n",
    "    \n",
    "    \n",
    "    player_chips = Chips()\n",
    "    \n",
    "    \n",
    "    take_bet(player_chips)\n",
    "    \n",
    "    \n",
    "    show_some(player_hand,dealer_hand)\n",
    "    \n",
    "    while playing:  \n",
    "        \n",
    "        \n",
    "        hit_or_stand(deck,player_hand)      \n",
    "        \n",
    "        show_some(player_hand,dealer_hand)\n",
    "        \n",
    "        \n",
    "        if player_hand.value > 21:\n",
    "            player_busts(player_hand,dealer_hand,player_chips)\n",
    "\n",
    "            break\n",
    "  \n",
    "    \n",
    "    if player_hand.value <= 21:\n",
    "        \n",
    "        while dealer_hand.value <= 17:\n",
    "            hit(deck,dealer_hand)\n",
    "        \n",
    "        show_all(player_hand,dealer_hand)\n",
    "        \n",
    "        if dealer_hand.value > 21:\n",
    "            dealer_busts(dealer_hand,player_hand,player_chips)\n",
    "        elif dealer_hand.value > player_hand.value:\n",
    "            dealer_wins(dealer_hand,player_hand,player_chips)\n",
    "        elif dealer_hand.value < player_hand.value:\n",
    "            player_wins(dealer_hand,player_hand,player_chips)\n",
    "        else:\n",
    "            push(dealer_hand,player_hand)    \n",
    "  \n",
    "    print('\\n Total de fichas del jugador: {}'.format(player_chips.total))\n",
    "    \n",
    "    new_game = input('¿Quieres volver a jugar? Presiona s o n')\n",
    "    \n",
    "    if new_game[0].lower == 's':\n",
    "        playing = True\n",
    "        continue\n",
    "    else:\n",
    "        print('Gracias por jugar BlackJack')\n",
    "        break"
   ]
  }
 ],
 "metadata": {
  "kernelspec": {
   "display_name": "Python 3",
   "language": "python",
   "name": "python3"
  },
  "language_info": {
   "codemirror_mode": {
    "name": "ipython",
    "version": 3
   },
   "file_extension": ".py",
   "mimetype": "text/x-python",
   "name": "python",
   "nbconvert_exporter": "python",
   "pygments_lexer": "ipython3",
   "version": "3.7.3"
  }
 },
 "nbformat": 4,
 "nbformat_minor": 2
}
